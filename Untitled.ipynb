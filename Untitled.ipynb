{
 "cells": [
  {
   "cell_type": "code",
   "execution_count": 17,
   "id": "51cbd0b3-2e57-4722-8b14-45c75250b4d3",
   "metadata": {},
   "outputs": [],
   "source": [
    "import configparser\n",
    "config = configparser.ConfigParser()\n"
   ]
  },
  {
   "cell_type": "code",
   "execution_count": 18,
   "id": "5b1ddba3-4eb4-45af-997e-739babb14b90",
   "metadata": {},
   "outputs": [],
   "source": [
    "config.add_section('sugar')\n",
    "config.set('sugar', 'sugar_url', 'https://www.alphavantage.co/query?function=SUGAR&interval=monthly&datatype=csv&apikey=LU62EN04PLQ3QUDK')"
   ]
  },
  {
   "cell_type": "code",
   "execution_count": 19,
   "id": "bab8dfdb-c0a9-4823-a38f-9190e9444860",
   "metadata": {},
   "outputs": [],
   "source": [
    "config.add_section('coffee')\n",
    "config.set('coffee', 'coffee_url', 'https://www.alphavantage.co/query?function=COFFEE&interval=monthly&datatype=csv&apikey=LU62EN04PLQ3QUDK')"
   ]
  },
  {
   "cell_type": "code",
   "execution_count": 20,
   "id": "566b4814-d818-42f2-87e4-27d52bdf7e28",
   "metadata": {},
   "outputs": [],
   "source": [
    "config.add_section('api')\n",
    "config.set('api', 'api_key', 'LU62EN04PLQ3QUDK')"
   ]
  },
  {
   "cell_type": "code",
   "execution_count": 21,
   "id": "a8358815-3b07-4194-9934-70c9f39af1b9",
   "metadata": {},
   "outputs": [],
   "source": [
    "with open('config.py', 'w') as configfile:\n",
    "  config.write(configfile)"
   ]
  },
  {
   "cell_type": "code",
   "execution_count": null,
   "id": "d5e72bd7-2a13-42ef-8b7b-58da7aaf1940",
   "metadata": {},
   "outputs": [],
   "source": []
  }
 ],
 "metadata": {
  "kernelspec": {
   "display_name": "Python 3",
   "language": "python",
   "name": "python3"
  },
  "language_info": {
   "codemirror_mode": {
    "name": "ipython",
    "version": 3
   },
   "file_extension": ".py",
   "mimetype": "text/x-python",
   "name": "python",
   "nbconvert_exporter": "python",
   "pygments_lexer": "ipython3",
   "version": "3.8.15"
  },
  "widgets": {
   "application/vnd.jupyter.widget-state+json": {
    "state": {},
    "version_major": 2,
    "version_minor": 0
   }
  }
 },
 "nbformat": 4,
 "nbformat_minor": 5
}
